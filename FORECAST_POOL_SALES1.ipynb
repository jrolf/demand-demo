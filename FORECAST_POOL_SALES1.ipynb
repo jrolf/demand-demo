{
 "cells": [
  {
   "cell_type": "code",
   "execution_count": null,
   "metadata": {},
   "outputs": [],
   "source": [
    "import numpy  as np\n",
    "import pandas as pd \n",
    "from random import uniform\n",
    "from scipy.stats import pearsonr\n",
    "from fbprophet import Prophet\n",
    "import datetime, logging\n",
    "logging.getLogger().setLevel(logging.CRITICAL)\n",
    "\n",
    "from matplotlib import pyplot as plt \n",
    "%matplotlib inline \n",
    "\n",
    "from JModels import *"
   ]
  },
  {
   "cell_type": "code",
   "execution_count": null,
   "metadata": {},
   "outputs": [],
   "source": [
    "######################################################################\n",
    "######################################################################"
   ]
  },
  {
   "cell_type": "code",
   "execution_count": null,
   "metadata": {},
   "outputs": [],
   "source": [
    "fn = \"DATA/HUNT GOOGLE TRENDS.csv\" \n",
    "df_hunt = pd.read_csv(fn) \n",
    "df_hunt.columns = ['ds','y'] \n",
    "df_hunt['ds'] = pd.to_datetime(df_hunt['ds']) \n",
    "print(len(df_hunt))  "
   ]
  },
  {
   "cell_type": "code",
   "execution_count": null,
   "metadata": {},
   "outputs": [],
   "source": [
    "fn = \"DATA/POOL GOOGLE TRENDS.csv\" \n",
    "df_season = pd.read_csv(fn) \n",
    "df_season.columns = ['ds','y'] \n",
    "df_season['ds'] = pd.to_datetime(df_season['ds']) \n",
    "print(len(df_season))  "
   ]
  },
  {
   "cell_type": "code",
   "execution_count": null,
   "metadata": {},
   "outputs": [],
   "source": [
    "fn = \"DATA/POOL SALES TRAIN.csv\"\n",
    "df_train = pd.read_csv(fn)\n",
    "df_train.columns = ['ds','y'] \n",
    "df_train['ds'] = pd.to_datetime(df_train['ds']) \n",
    "print(len(df_train)) "
   ]
  },
  {
   "cell_type": "code",
   "execution_count": null,
   "metadata": {},
   "outputs": [],
   "source": [
    "fn = \"DATA/POOL SALES TEST.csv\"\n",
    "df_test = pd.read_csv(fn)\n",
    "df_test.columns = ['ds','y'] \n",
    "df_test['ds'] = pd.to_datetime(df_test['ds'])  \n",
    "print(len(df_test)) "
   ]
  },
  {
   "cell_type": "code",
   "execution_count": null,
   "metadata": {},
   "outputs": [],
   "source": [
    "######################################################################\n",
    "######################################################################"
   ]
  },
  {
   "cell_type": "code",
   "execution_count": null,
   "metadata": {},
   "outputs": [],
   "source": [
    "df_hunt.head()"
   ]
  },
  {
   "cell_type": "code",
   "execution_count": null,
   "metadata": {},
   "outputs": [],
   "source": [
    "# Create datetime index\n",
    "# Shift all date values >> by +3 days\n",
    "# Join to a daily data set\n",
    "# Interpolate all missing values  \n",
    "\n",
    "dates1 = df_hunt['ds']\n",
    "dates2 = dates1 + datetime.timedelta(days=3) #<<<<<<<<<<<<<<<<<<<<<<<<<<<<<<\n",
    "df_hunt['ds'] = dates2\n",
    "base_dates = pd.DataFrame()\n",
    "base_dates['ds'] = pd.date_range(start=min(dates2),end=max(dates2)) \n",
    "df_hunt = pd.merge(base_dates,df_hunt,how='left',on='ds') \n",
    "df_hunt = df_hunt.interpolate()  "
   ]
  },
  {
   "cell_type": "code",
   "execution_count": null,
   "metadata": {},
   "outputs": [],
   "source": [
    "df_hunt.head()"
   ]
  },
  {
   "cell_type": "code",
   "execution_count": null,
   "metadata": {},
   "outputs": [],
   "source": [
    "TestSetSize = 365*2\n",
    "df_hunt_train = df_hunt.iloc[:-TestSetSize]      #.head(TotalWeeks-TestSetSize) \n",
    "df_hunt_test  = df_hunt.iloc[-TestSetSize:]        #.tail(TestSetSize)  "
   ]
  },
  {
   "cell_type": "code",
   "execution_count": null,
   "metadata": {},
   "outputs": [],
   "source": [
    "x, y = df_hunt_train['ds'], df_hunt_train['y']\n",
    "plt.figure(figsize=(11, 6)) \n",
    "plt.plot(x,y)\n",
    "plt.title('Historical Search Index for \"hunting blind\"',size=20) \n",
    "plt.xlabel('Date',size=16)\n",
    "plt.ylabel('Index',size=16)\n",
    "plt.show() "
   ]
  },
  {
   "cell_type": "code",
   "execution_count": null,
   "metadata": {},
   "outputs": [],
   "source": [
    "past_days   =  0\n",
    "future_days = 365*2\n",
    "\n",
    "m = Prophet( \n",
    "    seasonality_mode = 'multiplicative'\n",
    ") \n",
    "\n",
    "m.fit(df_hunt_train); \n",
    "fut = m.make_future_dataframe(future_days)   \n",
    "\n",
    "#-----------------------------------------------------------------\n",
    "dates1 = list(fut['ds'])\n",
    "first_date = dates1[0] \n",
    "first_date = str(first_date)[:10] \n",
    "dates2 = list(pd.date_range(end=first_date,periods=past_days))[:-1] \n",
    "fut0 = pd.DataFrame({'ds': dates2})\n",
    "fut  = pd.concat([fut0,fut]) \n",
    "fut.index = range(len(fut)) "
   ]
  },
  {
   "cell_type": "code",
   "execution_count": null,
   "metadata": {},
   "outputs": [],
   "source": [
    "f1 = m.predict(fut) \n",
    "Cols = ['ds','yhat_lower','yhat','yhat_upper']\n",
    "f2 = f1[Cols].copy()  \n",
    "ForecastDF = f2.copy() \n",
    "ForecastDF.index = ForecastDF['ds']  \n",
    "yhat_df = ForecastDF[['yhat']].copy() \n",
    "max_pred = yhat_df['yhat'].max() "
   ]
  },
  {
   "cell_type": "code",
   "execution_count": null,
   "metadata": {},
   "outputs": [],
   "source": [
    "print('Total Forecast Size:',len(f2)) "
   ]
  },
  {
   "cell_type": "code",
   "execution_count": null,
   "metadata": {},
   "outputs": [],
   "source": [
    "print('m.seasonality_prior_scale :',m.seasonality_prior_scale)\n",
    "m.plot(f1)\n",
    "plt.title('Expected Sales',size=18)\n",
    "plt.xlabel('Date',size=14);\n",
    "plt.ylabel('Sales',size=14);\n",
    "plt.ylim([-0.1,max_pred*1.1]) \n",
    "plt.show() "
   ]
  },
  {
   "cell_type": "code",
   "execution_count": null,
   "metadata": {},
   "outputs": [],
   "source": [
    "m.plot_components(f1); "
   ]
  },
  {
   "cell_type": "code",
   "execution_count": null,
   "metadata": {},
   "outputs": [],
   "source": [
    "InSampleDF = pd.merge(df_hunt_train,f1[['ds','yhat']],how='left',on='ds')\n",
    "actuals, preds = InSampleDF['y'], InSampleDF['yhat']\n",
    "\n",
    "InSampleCor  = pearsonr(actuals,preds)[0]\n",
    "InSampleRmse = simple_rmse(actuals,preds) \n",
    "\n",
    "print('In-Sample Correlation:',round(InSampleCor ,6)) \n",
    "print('In-Sample RMSE Error: ',round(InSampleRmse,6))    "
   ]
  },
  {
   "cell_type": "code",
   "execution_count": null,
   "metadata": {},
   "outputs": [],
   "source": [
    "OutSampleDF = pd.merge(df_hunt_test,f1[['ds','yhat']],how='left',on='ds') \n",
    "actuals, preds = OutSampleDF['y'], OutSampleDF['yhat']\n",
    "\n",
    "OutSampleCor  = pearsonr(actuals,preds)[0]\n",
    "OutSampleRmse = simple_rmse(actuals,preds) \n",
    "\n",
    "print('Out-Sample Correlation:',round(OutSampleCor ,6)) \n",
    "print('Out-Sample RMSE Error: ',round(OutSampleRmse,6))  "
   ]
  },
  {
   "cell_type": "code",
   "execution_count": null,
   "metadata": {},
   "outputs": [],
   "source": [
    "actuals, preds = InSampleDF['y'], InSampleDF['yhat']\n",
    "x_line = np.linspace(0,65,100)\n",
    "plt.figure(figsize=(7,7))\n",
    "plt.scatter(preds,actuals,alpha=0.2) \n",
    "plt.plot(x_line,x_line,color='green')\n",
    "plt.title('Goodness-of-Fit Plot (Training Set)',size=20) \n",
    "plt.xlabel('Predicted Index Value',size=16)\n",
    "plt.ylabel('Actual Index Value',size=16)\n",
    "plt.show()  "
   ]
  },
  {
   "cell_type": "code",
   "execution_count": null,
   "metadata": {},
   "outputs": [],
   "source": [
    "actuals, preds = OutSampleDF['y'], OutSampleDF['yhat']\n",
    "x_line = np.linspace(0,65,100)\n",
    "plt.figure(figsize=(7,7))\n",
    "plt.scatter(preds,actuals,alpha=0.2) \n",
    "plt.plot(x_line,x_line,color='green')\n",
    "plt.title('Goodness-of-Fit Plot (Testing Set)',size=20) \n",
    "plt.xlabel('Predicted Index Value',size=16)\n",
    "plt.ylabel('Actual Index Value',size=16)\n",
    "plt.show()  "
   ]
  },
  {
   "cell_type": "code",
   "execution_count": null,
   "metadata": {},
   "outputs": [],
   "source": [
    "yhat_df.head()"
   ]
  },
  {
   "cell_type": "code",
   "execution_count": null,
   "metadata": {},
   "outputs": [],
   "source": [
    "x1, y1 = df_hunt_train['ds'], df_hunt_train['y']\n",
    "x2, y2 = df_hunt_test['ds'] , df_hunt_test['y'] \n",
    "x3, y3 = list(yhat_df.index), list(yhat_df['yhat']) \n",
    "\n",
    "plt.figure(figsize=(11, 6)) \n",
    "plt.plot(x1,y1,label='Training Set')\n",
    "plt.plot(x2,y2,label='Testing Set')\n",
    "plt.plot(x3,y3,label='Prediction')\n",
    "plt.title('Historical Search Index for \"hunting blind\"',size=20) \n",
    "plt.xlabel('Date',size=16)\n",
    "plt.ylabel('Index',size=16)\n",
    "plt.legend(loc='upper left')\n",
    "plt.xlim(['2014',max(x3)])\n",
    "plt.show() "
   ]
  },
  {
   "cell_type": "code",
   "execution_count": null,
   "metadata": {},
   "outputs": [],
   "source": [
    "######################################################################\n",
    "######################################################################"
   ]
  },
  {
   "cell_type": "code",
   "execution_count": null,
   "metadata": {},
   "outputs": [],
   "source": [
    "### For student to complete ...... "
   ]
  },
  {
   "cell_type": "code",
   "execution_count": null,
   "metadata": {},
   "outputs": [],
   "source": []
  },
  {
   "cell_type": "code",
   "execution_count": null,
   "metadata": {},
   "outputs": [],
   "source": []
  },
  {
   "cell_type": "code",
   "execution_count": null,
   "metadata": {},
   "outputs": [],
   "source": []
  },
  {
   "cell_type": "code",
   "execution_count": null,
   "metadata": {},
   "outputs": [],
   "source": []
  },
  {
   "cell_type": "code",
   "execution_count": null,
   "metadata": {},
   "outputs": [],
   "source": []
  },
  {
   "cell_type": "code",
   "execution_count": null,
   "metadata": {},
   "outputs": [],
   "source": []
  },
  {
   "cell_type": "code",
   "execution_count": null,
   "metadata": {},
   "outputs": [],
   "source": []
  },
  {
   "cell_type": "code",
   "execution_count": null,
   "metadata": {},
   "outputs": [],
   "source": []
  },
  {
   "cell_type": "code",
   "execution_count": null,
   "metadata": {},
   "outputs": [],
   "source": []
  },
  {
   "cell_type": "code",
   "execution_count": null,
   "metadata": {},
   "outputs": [],
   "source": []
  },
  {
   "cell_type": "code",
   "execution_count": null,
   "metadata": {},
   "outputs": [],
   "source": []
  },
  {
   "cell_type": "code",
   "execution_count": null,
   "metadata": {},
   "outputs": [],
   "source": []
  },
  {
   "cell_type": "code",
   "execution_count": null,
   "metadata": {},
   "outputs": [],
   "source": []
  },
  {
   "cell_type": "code",
   "execution_count": null,
   "metadata": {},
   "outputs": [],
   "source": []
  },
  {
   "cell_type": "code",
   "execution_count": null,
   "metadata": {},
   "outputs": [],
   "source": []
  },
  {
   "cell_type": "code",
   "execution_count": null,
   "metadata": {},
   "outputs": [],
   "source": []
  }
 ],
 "metadata": {
  "kernelspec": {
   "display_name": "Python 3",
   "language": "python",
   "name": "python3"
  },
  "language_info": {
   "codemirror_mode": {
    "name": "ipython",
    "version": 3
   },
   "file_extension": ".py",
   "mimetype": "text/x-python",
   "name": "python",
   "nbconvert_exporter": "python",
   "pygments_lexer": "ipython3",
   "version": "3.7.2"
  }
 },
 "nbformat": 4,
 "nbformat_minor": 2
}
