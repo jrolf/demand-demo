{
 "cells": [
  {
   "cell_type": "code",
   "execution_count": null,
   "metadata": {},
   "outputs": [],
   "source": [
    "import numpy  as np\n",
    "import pandas as pd \n",
    "from random import uniform\n",
    "from scipy.stats import pearsonr\n",
    "from fbprophet import Prophet\n",
    "import datetime, logging\n",
    "logging.getLogger().setLevel(logging.CRITICAL)\n",
    "\n",
    "from matplotlib import pyplot as plt \n",
    "%matplotlib inline \n",
    "\n",
    "from JModels import *"
   ]
  },
  {
   "cell_type": "code",
   "execution_count": null,
   "metadata": {},
   "outputs": [],
   "source": [
    "######################################################################\n",
    "######################################################################"
   ]
  },
  {
   "cell_type": "code",
   "execution_count": null,
   "metadata": {},
   "outputs": [],
   "source": [
    "fn = \"DATA/HUNT GOOGLE TRENDS.csv\" \n",
    "df_hunt = pd.read_csv(fn) \n",
    "df_hunt.columns = ['ds','y'] \n",
    "df_hunt['ds'] = pd.to_datetime(df_hunt['ds']) \n",
    "print(len(df_hunt))  "
   ]
  },
  {
   "cell_type": "code",
   "execution_count": null,
   "metadata": {},
   "outputs": [],
   "source": [
    "fn = \"DATA/MOWER GOOGLE TRENDS.csv\" \n",
    "df_season = pd.read_csv(fn) \n",
    "df_season.columns = ['ds','y'] \n",
    "df_season['ds'] = pd.to_datetime(df_season['ds']) \n",
    "print(len(df_season))  "
   ]
  },
  {
   "cell_type": "code",
   "execution_count": null,
   "metadata": {},
   "outputs": [],
   "source": [
    "fn = \"DATA/MOWER SALES TRAIN.csv\"\n",
    "df_train = pd.read_csv(fn)\n",
    "df_train.columns = ['ds','y'] \n",
    "df_train['ds'] = pd.to_datetime(df_train['ds']) \n",
    "print(len(df_train)) "
   ]
  },
  {
   "cell_type": "code",
   "execution_count": null,
   "metadata": {},
   "outputs": [],
   "source": [
    "fn = \"DATA/MOWER SALES TEST.csv\"\n",
    "df_test = pd.read_csv(fn)\n",
    "df_test.columns = ['ds','y'] \n",
    "df_test['ds'] = pd.to_datetime(df_test['ds'])  \n",
    "print(len(df_test)) "
   ]
  },
  {
   "cell_type": "code",
   "execution_count": null,
   "metadata": {},
   "outputs": [],
   "source": [
    "######################################################################\n",
    "######################################################################"
   ]
  },
  {
   "cell_type": "code",
   "execution_count": null,
   "metadata": {},
   "outputs": [],
   "source": [
    "df_hunt.head()"
   ]
  },
  {
   "cell_type": "code",
   "execution_count": null,
   "metadata": {},
   "outputs": [],
   "source": [
    "# Create datetime index\n",
    "# Shift all date values >> by +3 days\n",
    "# Join to a daily data set\n",
    "# Interpolate all missing values  \n",
    "\n",
    "dates1 = df_hunt['ds']\n",
    "dates2 = dates1 + datetime.timedelta(days=3) #<<<<<<<<<<<<<<<<<<<<<<<<<<<<<<\n",
    "df_hunt['ds'] = dates2\n",
    "base_dates = pd.DataFrame()\n",
    "base_dates['ds'] = pd.date_range(start=min(dates2),end=max(dates2)) \n",
    "df_hunt = pd.merge(base_dates,df_hunt,how='left',on='ds') \n",
    "df_hunt = df_hunt.interpolate()  "
   ]
  },
  {
   "cell_type": "code",
   "execution_count": null,
   "metadata": {},
   "outputs": [],
   "source": [
    "df_hunt.head()"
   ]
  },
  {
   "cell_type": "code",
   "execution_count": null,
   "metadata": {},
   "outputs": [],
   "source": [
    "TestSetSize = 365*2\n",
    "df_hunt_train = df_hunt.iloc[:-TestSetSize]      #.head(TotalWeeks-TestSetSize) \n",
    "df_hunt_test  = df_hunt.iloc[-TestSetSize:]        #.tail(TestSetSize)  "
   ]
  },
  {
   "cell_type": "code",
   "execution_count": null,
   "metadata": {},
   "outputs": [],
   "source": [
    "x, y = df_hunt_train['ds'], df_hunt_train['y']\n",
    "plt.figure(figsize=(11, 6)) \n",
    "plt.plot(x,y)\n",
    "plt.title('Historical Search Index for \"hunting blind\"',size=20) \n",
    "plt.xlabel('Date',size=16)\n",
    "plt.ylabel('Index',size=16)\n",
    "plt.show() "
   ]
  },
  {
   "cell_type": "code",
   "execution_count": null,
   "metadata": {},
   "outputs": [],
   "source": [
    "past_days   =  0\n",
    "future_days = 365*2\n",
    "\n",
    "m = Prophet( \n",
    "    seasonality_mode = 'multiplicative'\n",
    ") \n",
    "\n",
    "m.fit(df_hunt_train); \n",
    "fut = m.make_future_dataframe(future_days)   \n",
    "\n",
    "#-----------------------------------------------------------------\n",
    "dates1 = list(fut['ds'])\n",
    "first_date = dates1[0] \n",
    "first_date = str(first_date)[:10] \n",
    "dates2 = list(pd.date_range(end=first_date,periods=past_days))[:-1] \n",
    "fut0 = pd.DataFrame({'ds': dates2})\n",
    "fut  = pd.concat([fut0,fut]) \n",
    "fut.index = range(len(fut)) "
   ]
  },
  {
   "cell_type": "code",
   "execution_count": null,
   "metadata": {},
   "outputs": [],
   "source": [
    "f1 = m.predict(fut) \n",
    "Cols = ['ds','yhat_lower','yhat','yhat_upper']\n",
    "f2 = f1[Cols].copy()  \n",
    "ForecastDF = f2.copy() \n",
    "ForecastDF.index = ForecastDF['ds']  \n",
    "yhat_df = ForecastDF[['yhat']].copy() \n",
    "max_pred = yhat_df['yhat'].max() "
   ]
  },
  {
   "cell_type": "code",
   "execution_count": null,
   "metadata": {},
   "outputs": [],
   "source": [
    "print('Total Forecast Size:',len(f2)) "
   ]
  },
  {
   "cell_type": "code",
   "execution_count": null,
   "metadata": {},
   "outputs": [],
   "source": [
    "print('m.seasonality_prior_scale :',m.seasonality_prior_scale)\n",
    "m.plot(f1)\n",
    "plt.title('Expected Sales',size=18)\n",
    "plt.xlabel('Date',size=14);\n",
    "plt.ylabel('Sales',size=14);\n",
    "plt.ylim([-0.1,max_pred*1.1]) \n",
    "plt.show() "
   ]
  },
  {
   "cell_type": "code",
   "execution_count": null,
   "metadata": {},
   "outputs": [],
   "source": [
    "m.plot_components(f1); "
   ]
  },
  {
   "cell_type": "code",
   "execution_count": null,
   "metadata": {},
   "outputs": [],
   "source": [
    "InSampleDF = pd.merge(df_hunt_train,f1[['ds','yhat']],how='left',on='ds')\n",
    "actuals, preds = InSampleDF['y'], InSampleDF['yhat']\n",
    "\n",
    "InSampleCor  = pearsonr(actuals,preds)[0]\n",
    "InSampleRmse = simple_rmse(actuals,preds) \n",
    "\n",
    "print('In-Sample Correlation:',round(InSampleCor ,6)) \n",
    "print('In-Sample RMSE Error: ',round(InSampleRmse,6))    "
   ]
  },
  {
   "cell_type": "code",
   "execution_count": null,
   "metadata": {},
   "outputs": [],
   "source": [
    "OutSampleDF = pd.merge(df_hunt_test,f1[['ds','yhat']],how='left',on='ds') \n",
    "actuals, preds = OutSampleDF['y'], OutSampleDF['yhat']\n",
    "\n",
    "OutSampleCor  = pearsonr(actuals,preds)[0]\n",
    "OutSampleRmse = simple_rmse(actuals,preds) \n",
    "\n",
    "print('Out-Sample Correlation:',round(OutSampleCor ,6)) \n",
    "print('Out-Sample RMSE Error: ',round(OutSampleRmse,6))  "
   ]
  },
  {
   "cell_type": "code",
   "execution_count": null,
   "metadata": {},
   "outputs": [],
   "source": [
    "actuals, preds = InSampleDF['y'], InSampleDF['yhat']\n",
    "x_line = np.linspace(0,65,100)\n",
    "plt.figure(figsize=(7,7))\n",
    "plt.scatter(preds,actuals,alpha=0.2) \n",
    "plt.plot(x_line,x_line,color='green')\n",
    "plt.title('Goodness-of-Fit Plot (Training Set)',size=20) \n",
    "plt.xlabel('Predicted Index Value',size=16)\n",
    "plt.ylabel('Actual Index Value',size=16)\n",
    "plt.show()  "
   ]
  },
  {
   "cell_type": "code",
   "execution_count": null,
   "metadata": {},
   "outputs": [],
   "source": [
    "actuals, preds = OutSampleDF['y'], OutSampleDF['yhat']\n",
    "x_line = np.linspace(0,65,100)\n",
    "plt.figure(figsize=(7,7))\n",
    "plt.scatter(preds,actuals,alpha=0.2) \n",
    "plt.plot(x_line,x_line,color='green')\n",
    "plt.title('Goodness-of-Fit Plot (Testing Set)',size=20) \n",
    "plt.xlabel('Predicted Index Value',size=16)\n",
    "plt.ylabel('Actual Index Value',size=16)\n",
    "plt.show()  "
   ]
  },
  {
   "cell_type": "code",
   "execution_count": null,
   "metadata": {},
   "outputs": [],
   "source": [
    "yhat_df.head()"
   ]
  },
  {
   "cell_type": "code",
   "execution_count": null,
   "metadata": {},
   "outputs": [],
   "source": [
    "x1, y1 = df_hunt_train['ds'], df_hunt_train['y']\n",
    "x2, y2 = df_hunt_test['ds'] , df_hunt_test['y'] \n",
    "x3, y3 = list(yhat_df.index), list(yhat_df['yhat']) \n",
    "\n",
    "plt.figure(figsize=(11, 6)) \n",
    "plt.plot(x1,y1,label='Training Set')\n",
    "plt.plot(x2,y2,label='Testing Set')\n",
    "plt.plot(x3,y3,label='Prediction')\n",
    "plt.title('Historical Search Index for \"hunting blind\"',size=20) \n",
    "plt.xlabel('Date',size=16)\n",
    "plt.ylabel('Index',size=16)\n",
    "plt.legend(loc='upper left')\n",
    "plt.xlim([datetime.datetime(2014,1,1),max(x3)])\n",
    "plt.show() "
   ]
  },
  {
   "cell_type": "code",
   "execution_count": null,
   "metadata": {},
   "outputs": [],
   "source": [
    "######################################################################\n",
    "######################################################################"
   ]
  },
  {
   "cell_type": "code",
   "execution_count": null,
   "metadata": {},
   "outputs": [],
   "source": [
    "#df_train.head() "
   ]
  },
  {
   "cell_type": "code",
   "execution_count": null,
   "metadata": {},
   "outputs": [],
   "source": [
    "x, y = df_train['ds'], df_train['y']\n",
    "plt.figure(figsize=(11, 6))\n",
    "plt.plot(x,y)\n",
    "plt.title('Historical Sales',size=20) \n",
    "plt.xlabel('Date',size=16)\n",
    "plt.ylabel('Sales',size=16)\n",
    "plt.show() "
   ]
  },
  {
   "cell_type": "code",
   "execution_count": null,
   "metadata": {},
   "outputs": [],
   "source": [
    "######################################################################\n",
    "######################################################################"
   ]
  },
  {
   "cell_type": "code",
   "execution_count": null,
   "metadata": {},
   "outputs": [],
   "source": [
    "past_days   =  0\n",
    "future_days = 60  "
   ]
  },
  {
   "cell_type": "code",
   "execution_count": null,
   "metadata": {},
   "outputs": [],
   "source": [
    "m = Prophet( \n",
    "    seasonality_mode = 'multiplicative',\n",
    "    mcmc_samples = 500,\n",
    "    uncertainty_samples = 500 \n",
    ") \n",
    "\n",
    "m.fit(df_train); \n",
    "fut = m.make_future_dataframe(future_days)   \n",
    "\n",
    "#-----------------------------------------------------------------\n",
    "dates1 = list(fut['ds'])\n",
    "first_date = dates1[0] \n",
    "first_date = str(first_date)[:10] \n",
    "dates2 = list(pd.date_range(end=first_date,periods=past_days))[:-1] \n",
    "fut0 = pd.DataFrame({'ds': dates2})\n",
    "fut  = pd.concat([fut0,fut]) \n",
    "fut.index = range(len(fut)) "
   ]
  },
  {
   "cell_type": "code",
   "execution_count": null,
   "metadata": {},
   "outputs": [],
   "source": [
    "f1 = m.predict(fut)\n",
    "Cols = ['ds','yhat_lower','yhat','yhat_upper']\n",
    "f2 = f1[Cols].copy()  \n",
    "ForecastDF = f2.copy() \n",
    "ForecastDF.index = ForecastDF['ds']  \n",
    "yhat_df = ForecastDF[['yhat']].copy() \n",
    "max_pred = yhat_df['yhat'].max() "
   ]
  },
  {
   "cell_type": "code",
   "execution_count": null,
   "metadata": {},
   "outputs": [],
   "source": [
    "print('Forecast Size:',len(f2)) "
   ]
  },
  {
   "cell_type": "code",
   "execution_count": null,
   "metadata": {},
   "outputs": [],
   "source": [
    "print('m.seasonality_prior_scale :',m.seasonality_prior_scale)\n",
    "m.plot(f1)\n",
    "plt.title('Expected Sales',size=18)\n",
    "plt.xlabel('Date',size=14);\n",
    "plt.ylabel('Sales',size=14);\n",
    "plt.ylim([-0.1,max_pred*1.1]) \n",
    "plt.show() "
   ]
  },
  {
   "cell_type": "code",
   "execution_count": null,
   "metadata": {},
   "outputs": [],
   "source": [
    "m.plot_components(f1); "
   ]
  },
  {
   "cell_type": "code",
   "execution_count": null,
   "metadata": {
    "scrolled": true
   },
   "outputs": [],
   "source": [
    "######################################################################\n",
    "######################################################################"
   ]
  },
  {
   "cell_type": "code",
   "execution_count": null,
   "metadata": {},
   "outputs": [],
   "source": [
    "#f1.head().T"
   ]
  },
  {
   "cell_type": "code",
   "execution_count": null,
   "metadata": {},
   "outputs": [],
   "source": [
    "InSampleDF = pd.merge(df_train,f1[['ds','yhat']],how='left',on='ds')\n",
    "actuals, preds = InSampleDF['y'], InSampleDF['yhat']\n",
    "\n",
    "InSampleCor  = pearsonr(actuals,preds)[0]\n",
    "InSampleRmse = simple_rmse(actuals,preds) \n",
    "\n",
    "print('In-Sample Correlation:',round(InSampleCor ,6)) \n",
    "print('In-Sample RMSE Error: ',round(InSampleRmse,6))    "
   ]
  },
  {
   "cell_type": "code",
   "execution_count": null,
   "metadata": {},
   "outputs": [],
   "source": [
    "OutSampleDF = pd.merge(df_test,f1[['ds','yhat']],how='left',on='ds') \n",
    "actuals, preds = OutSampleDF['y'], OutSampleDF['yhat']\n",
    "\n",
    "OutSampleCor  = pearsonr(actuals,preds)[0]\n",
    "OutSampleRmse = simple_rmse(actuals,preds) \n",
    "\n",
    "print('Out-Sample Correlation:',round(OutSampleCor ,6)) \n",
    "print('Out-Sample RMSE Error: ',round(OutSampleRmse,6))  "
   ]
  },
  {
   "cell_type": "code",
   "execution_count": null,
   "metadata": {},
   "outputs": [],
   "source": [
    "# Save these results for subsequent analysis: \n",
    "InSampleDF1  = InSampleDF.copy()\n",
    "OutSampleDF1 = OutSampleDF.copy()"
   ]
  },
  {
   "cell_type": "code",
   "execution_count": null,
   "metadata": {},
   "outputs": [],
   "source": [
    "######################################################################\n",
    "######################################################################"
   ]
  },
  {
   "cell_type": "code",
   "execution_count": null,
   "metadata": {},
   "outputs": [],
   "source": [
    "df_season.head()"
   ]
  },
  {
   "cell_type": "code",
   "execution_count": null,
   "metadata": {},
   "outputs": [],
   "source": [
    "# Create datetime index\n",
    "# Shift all date values >> by +3 days\n",
    "# Join to a daily data set\n",
    "# Interpolate all missing values  \n",
    "\n",
    "dates1 = df_season['ds']\n",
    "dates2 = dates1 + datetime.timedelta(days=3) #<<<<<<<<<<<<<<<<<<<<<<<<<<<<<<\n",
    "df_season['ds'] = dates2\n",
    "base_dates = pd.DataFrame()\n",
    "base_dates['ds'] = pd.date_range(start=min(dates2),end=max(dates2)) \n",
    "df_season = pd.merge(base_dates,df_season,how='left',on='ds') \n",
    "df_season = df_season.interpolate() "
   ]
  },
  {
   "cell_type": "code",
   "execution_count": null,
   "metadata": {},
   "outputs": [],
   "source": [
    "df_season.head()"
   ]
  },
  {
   "cell_type": "code",
   "execution_count": null,
   "metadata": {},
   "outputs": [],
   "source": [
    "x, y = df_season['ds'], df_season['y'] \n",
    "plt.figure(figsize=(11, 6))\n",
    "plt.plot(x,y)\n",
    "plt.title('Google Trends Index Over 5 Yrs for \"buy lawn mower\"',size=20) \n",
    "plt.xlabel('Date',size=16)\n",
    "plt.ylabel('Search Index',size=16)\n",
    "plt.show() "
   ]
  },
  {
   "cell_type": "code",
   "execution_count": null,
   "metadata": {},
   "outputs": [],
   "source": [
    "######################################################################"
   ]
  },
  {
   "cell_type": "code",
   "execution_count": null,
   "metadata": {},
   "outputs": [],
   "source": [
    "past_days   =   0\n",
    "future_days = 400  "
   ]
  },
  {
   "cell_type": "code",
   "execution_count": null,
   "metadata": {},
   "outputs": [],
   "source": [
    "m = Prophet( \n",
    "    seasonality_mode = 'multiplicative'\n",
    ") \n",
    "\n",
    "m.fit(df_season); \n",
    "fut = m.make_future_dataframe(future_days)   \n",
    "\n",
    "#-----------------------------------------------------------------\n",
    "dates1 = list(fut['ds'])\n",
    "first_date = dates1[0] \n",
    "first_date = str(first_date)[:10] \n",
    "dates2 = list(pd.date_range(end=first_date,periods=past_days))[:-1] \n",
    "fut0 = pd.DataFrame({'ds': dates2})\n",
    "fut  = pd.concat([fut0,fut]) \n",
    "fut.index = range(len(fut)) "
   ]
  },
  {
   "cell_type": "code",
   "execution_count": null,
   "metadata": {},
   "outputs": [],
   "source": [
    "f1 = m.predict(fut)\n",
    "Cols = ['ds','yhat_lower','yhat','yhat_upper']\n",
    "f2 = f1[Cols].copy()  \n",
    "ForecastDF = f2.copy() \n",
    "ForecastDF.index = ForecastDF['ds']  \n",
    "yhat_df = ForecastDF[['yhat']].copy() \n",
    "max_pred = yhat_df['yhat'].max() "
   ]
  },
  {
   "cell_type": "code",
   "execution_count": null,
   "metadata": {},
   "outputs": [],
   "source": [
    "print('m.seasonality_prior_scale :',m.seasonality_prior_scale)\n",
    "m.plot(f1)\n",
    "plt.title('Expected Sales',size=18)\n",
    "plt.xlabel('Date',size=14);\n",
    "plt.ylabel('Sales',size=14);\n",
    "plt.ylim([-0.1,max_pred*1.1]) \n",
    "plt.show() "
   ]
  },
  {
   "cell_type": "code",
   "execution_count": null,
   "metadata": {},
   "outputs": [],
   "source": [
    "m.plot_components(f1); "
   ]
  },
  {
   "cell_type": "code",
   "execution_count": null,
   "metadata": {},
   "outputs": [],
   "source": [
    "######################################################################\n",
    "######################################################################"
   ]
  },
  {
   "cell_type": "code",
   "execution_count": null,
   "metadata": {},
   "outputs": [],
   "source": [
    "yhat_df.head()"
   ]
  },
  {
   "cell_type": "code",
   "execution_count": null,
   "metadata": {},
   "outputs": [],
   "source": [
    "df_season.head()"
   ]
  },
  {
   "cell_type": "code",
   "execution_count": null,
   "metadata": {},
   "outputs": [],
   "source": [
    "x1,y1 = df_season['ds'], df_season['y'] \n",
    "x2,y2 = list(yhat_df.index),yhat_df['yhat']\n",
    "\n",
    "plt.figure(figsize=(11, 6))\n",
    "plt.plot(x1,y1)\n",
    "plt.plot(x2,y2) \n",
    "plt.show()"
   ]
  },
  {
   "cell_type": "code",
   "execution_count": null,
   "metadata": {},
   "outputs": [],
   "source": [
    "fitted_season = pd.DataFrame() \n",
    "fitted_season['ds'] = list(yhat_df.index)\n",
    "fitted_season['season'] = list(yhat_df['yhat'])  \n",
    "fitted_season.head() "
   ]
  },
  {
   "cell_type": "code",
   "execution_count": null,
   "metadata": {},
   "outputs": [],
   "source": [
    "######################################################################\n",
    "######################################################################"
   ]
  },
  {
   "cell_type": "code",
   "execution_count": null,
   "metadata": {},
   "outputs": [],
   "source": [
    "df_train2 = pd.merge(df_train,fitted_season,how='left',on='ds') \n",
    "df_train2.head() "
   ]
  },
  {
   "cell_type": "code",
   "execution_count": null,
   "metadata": {},
   "outputs": [],
   "source": [
    "x,y = df_train2['season'],df_train2['y']\n",
    "plt.figure(figsize=(9,9))\n",
    "plt.scatter(x,y)\n",
    "plt.title('Google Trends Index Over 5 Yrs for \"buy lawn mower\"',size=20) \n",
    "plt.xlabel('Search Index - Google Trends',size=16)\n",
    "plt.ylabel('Historical Sales',size=16)\n",
    "plt.show() "
   ]
  },
  {
   "cell_type": "code",
   "execution_count": null,
   "metadata": {},
   "outputs": [],
   "source": [
    "Cor  = pearsonr(y,x)[0]\n",
    "Rmse = simple_rmse(y,x)  \n",
    "print(round(Cor ,5))\n",
    "print(round(Rmse,5)) "
   ]
  },
  {
   "cell_type": "code",
   "execution_count": null,
   "metadata": {},
   "outputs": [],
   "source": [
    "poly_model = PolyFit(3)\n",
    "poly_model.fit(x,y)\n",
    "x_line = np.linspace(5,95,500) \n",
    "y_line = poly_model.predict(x_line) "
   ]
  },
  {
   "cell_type": "code",
   "execution_count": null,
   "metadata": {},
   "outputs": [],
   "source": [
    "x,y = df_train2['season'],df_train2['y']\n",
    "plt.figure(figsize=(9,9))\n",
    "plt.scatter(x,y)\n",
    "plt.plot(x_line,y_line,color='green') \n",
    "plt.title('Google Trends Index Over 5 Yrs for \"buy lawn mower\"',size=20) \n",
    "plt.xlabel('Search Index - Google Trends',size=16)\n",
    "plt.ylabel('Historical Daily Sales',size=16)\n",
    "plt.show() "
   ]
  },
  {
   "cell_type": "code",
   "execution_count": null,
   "metadata": {},
   "outputs": [],
   "source": [
    "df_train2.head() "
   ]
  },
  {
   "cell_type": "code",
   "execution_count": null,
   "metadata": {},
   "outputs": [],
   "source": [
    "df_train2['y_pred'] = poly_model.predict(df_train2['season']) \n",
    "df_train2['resid'] = df_train2['y'] - df_train2['y_pred']"
   ]
  },
  {
   "cell_type": "code",
   "execution_count": null,
   "metadata": {},
   "outputs": [],
   "source": [
    "x, y1, y2 = df_train2['ds'], df_train2['y'], df_train2['y_pred']\n",
    "plt.figure(figsize=(11, 6))\n",
    "plt.plot(x,y1)\n",
    "plt.plot(x,y2)\n",
    "plt.title('Historical Sales',size=20) \n",
    "plt.xlabel('Date',size=16)\n",
    "plt.ylabel('Sales',size=16) \n",
    "plt.show() "
   ]
  },
  {
   "cell_type": "code",
   "execution_count": null,
   "metadata": {},
   "outputs": [],
   "source": [
    "x, y = df_train2['ds'], df_train2['resid']\n",
    "plt.figure(figsize=(11, 6))\n",
    "plt.plot(x,y)\n",
    "plt.title('Residual Sales',size=20) \n",
    "plt.xlabel('Date',size=16)\n",
    "plt.ylabel('Residual Sales',size=16) \n",
    "plt.show() "
   ]
  },
  {
   "cell_type": "code",
   "execution_count": null,
   "metadata": {},
   "outputs": [],
   "source": [
    "fitted_season2 = fitted_season.copy()\n",
    "fitted_season2['yhat'] = poly_model.predict(fitted_season2['season']) "
   ]
  },
  {
   "cell_type": "code",
   "execution_count": null,
   "metadata": {},
   "outputs": [],
   "source": [
    "x1, y1 = df_train2['ds'], df_train2['y']\n",
    "x2, y2 = fitted_season2['ds'], fitted_season2['yhat']\n",
    "\n",
    "plt.figure(figsize=(11, 6))\n",
    "plt.plot(x1,y1)\n",
    "plt.plot(x2,y2)\n",
    "plt.title('Estimated Historical Sales',size=20) \n",
    "plt.xlabel('Date',size=16)\n",
    "plt.ylabel('Est. Sales',size=16) \n",
    "plt.show() "
   ]
  },
  {
   "cell_type": "code",
   "execution_count": null,
   "metadata": {},
   "outputs": [],
   "source": [
    "plt.figure(figsize=(11, 6))\n",
    "plt.plot(x1,y1)\n",
    "plt.plot(x2,y2)\n",
    "plt.title('Estimated Historical Sales',size=20) \n",
    "plt.xlabel('Date',size=16)\n",
    "plt.ylabel('Est. Sales',size=16) \n",
    "plt.xlim([datetime.datetime(2017,3,1),datetime.datetime(2020,3,1)]) \n",
    "plt.show() "
   ]
  },
  {
   "cell_type": "code",
   "execution_count": null,
   "metadata": {
    "scrolled": true
   },
   "outputs": [],
   "source": [
    "InSampleDF = pd.merge(df_train2,fitted_season2,how='left',on='ds')\n",
    "actuals, preds = InSampleDF['y'], InSampleDF['yhat']\n",
    "\n",
    "InSampleCor  = pearsonr(actuals,preds)[0]\n",
    "InSampleRmse = simple_rmse(actuals,preds) \n",
    "\n",
    "print('In-Sample Correlation:',round(InSampleCor ,6)) \n",
    "print('In-Sample RMSE Error: ',round(InSampleRmse,6))  "
   ]
  },
  {
   "cell_type": "code",
   "execution_count": null,
   "metadata": {},
   "outputs": [],
   "source": [
    "OutSampleDF = pd.merge(df_test,fitted_season2[['ds','yhat']],how='left',on='ds') \n",
    "actuals, preds = OutSampleDF['y'], OutSampleDF['yhat'] \n",
    "\n",
    "OutSampleCor  = pearsonr(actuals,preds)[0]\n",
    "OutSampleRmse = simple_rmse(actuals,preds) \n",
    "\n",
    "print('Out-Sample Correlation:',round(OutSampleCor ,6)) \n",
    "print('Out-Sample RMSE Error: ',round(OutSampleRmse,6))  "
   ]
  },
  {
   "cell_type": "code",
   "execution_count": null,
   "metadata": {},
   "outputs": [],
   "source": [
    "# Save these results for subsequent analysis: \n",
    "InSampleDF2  = InSampleDF.copy()\n",
    "OutSampleDF2 = OutSampleDF.copy()"
   ]
  },
  {
   "cell_type": "code",
   "execution_count": null,
   "metadata": {},
   "outputs": [],
   "source": [
    "######################################################################\n",
    "######################################################################"
   ]
  },
  {
   "cell_type": "code",
   "execution_count": null,
   "metadata": {},
   "outputs": [],
   "source": [
    "y1,x1 = InSampleDF1['y'] , InSampleDF1['yhat']\n",
    "y2,x2 = OutSampleDF1['y'], OutSampleDF1['yhat'] \n",
    "\n",
    "#-------------------------------------------\n",
    "fig, ax = plt.subplots(1,2, figsize=(12,5))\n",
    "\n",
    "ax[0].scatter(x1, y1, c='g')\n",
    "ax[0].plot(np.linspace(0,30,2),np.linspace(0,30,2))\n",
    "ax[0].set_title('Training Set Fit', fontsize=16)\n",
    "ax[0].set_xlabel('Predicted Sales', fontsize=14)\n",
    "ax[0].set_ylabel('Actual Sales',fontsize=14)\n",
    "\n",
    "ax[1].scatter(x2, y2, c='b')\n",
    "ax[1].plot(np.linspace(0,30,2),np.linspace(0,30,2)) \n",
    "ax[1].set_title('Testing Set Fit',fontsize=16)\n",
    "ax[1].set_xlabel('Predicted Sales', fontsize=14)\n",
    "ax[1].set_ylabel('Actual Sales',fontsize=14) \n",
    "\n",
    "fig.suptitle('Method #1', fontsize=20)\n",
    "\n",
    "plt.subplots_adjust(left   = 0.1,  # the left side of the subplots of the figure\n",
    "                    right  = 0.9,  # the right side of the subplots of the figure\n",
    "                    bottom = 0.1,  # the bottom of the subplots of the figure\n",
    "                    top    = 0.9,  # the top of the subplots of the figure\n",
    "                    wspace = 0.3,  # the amount of width reserved for space between subplots\n",
    "                    hspace = 0.3   # the amount of height reserved for space between subplots\n",
    "                   )  "
   ]
  },
  {
   "cell_type": "code",
   "execution_count": null,
   "metadata": {},
   "outputs": [],
   "source": [
    "y1,x1 = InSampleDF2['y'] , InSampleDF2['yhat']\n",
    "y2,x2 = OutSampleDF2['y'], OutSampleDF2['yhat'] \n",
    "\n",
    "#-------------------------------------------\n",
    "fig, ax = plt.subplots(1,2, figsize=(12,5))\n",
    "\n",
    "ax[0].scatter(x1, y1, c='g')\n",
    "ax[0].plot(np.linspace(0,30,2),np.linspace(0,30,2))\n",
    "ax[0].set_title('Training Set Fit', fontsize=16)\n",
    "ax[0].set_xlabel('Predicted Sales', fontsize=14)\n",
    "ax[0].set_ylabel('Actual Sales',fontsize=14)\n",
    "\n",
    "ax[1].scatter(x2, y2, c='b')\n",
    "ax[1].plot(np.linspace(0,30,2),np.linspace(0,30,2)) \n",
    "ax[1].set_title('Testing Set Fit',fontsize=16)\n",
    "ax[1].set_xlabel('Predicted Sales', fontsize=14)\n",
    "ax[1].set_ylabel('Actual Sales',fontsize=14) \n",
    "\n",
    "fig.suptitle('Method #2', fontsize=20)\n",
    "\n",
    "plt.subplots_adjust(left   = 0.1,  # the left side of the subplots of the figure\n",
    "                    right  = 0.9,  # the right side of the subplots of the figure\n",
    "                    bottom = 0.1,  # the bottom of the subplots of the figure\n",
    "                    top    = 0.9,  # the top of the subplots of the figure\n",
    "                    wspace = 0.3,  # the amount of width reserved for space between subplots\n",
    "                    hspace = 0.3   # the amount of height reserved for space between subplots\n",
    "                   )  "
   ]
  },
  {
   "cell_type": "code",
   "execution_count": null,
   "metadata": {},
   "outputs": [],
   "source": [
    "######################################################################\n",
    "######################################################################"
   ]
  },
  {
   "cell_type": "code",
   "execution_count": null,
   "metadata": {
    "scrolled": true
   },
   "outputs": [],
   "source": [
    "RDF = pd.DataFrame() # Results DataFrame\n",
    "RDF['Date']    = OutSampleDF1['ds']\n",
    "RDF['Sales']   = OutSampleDF1['y']\n",
    "RDF['PredsM1'] = OutSampleDF1['yhat']\n",
    "RDF['PredsM2'] = OutSampleDF2['yhat']\n",
    "\n",
    "for col in ['Sales','PredsM1','PredsM2']:\n",
    "    RDF[col+'_C'] = np.cumsum(RDF[col]) "
   ]
  },
  {
   "cell_type": "code",
   "execution_count": null,
   "metadata": {},
   "outputs": [],
   "source": [
    "RDF.head()"
   ]
  },
  {
   "cell_type": "code",
   "execution_count": null,
   "metadata": {},
   "outputs": [],
   "source": [
    "plt.figure(figsize=(11, 6))\n",
    "plt.plot(RDF['Date'],RDF['Sales'],label='Actual Sales')\n",
    "plt.plot(RDF['Date'],RDF['PredsM1'],label='Method #1')\n",
    "plt.plot(RDF['Date'],RDF['PredsM2'],label='Method #2')\n",
    "plt.title('Forecasted Daily Sales',size=20) \n",
    "plt.xlabel('Date',size=16)\n",
    "plt.ylabel('Sales',size=16) \n",
    "plt.legend(loc='upper left')\n",
    "plt.ylim([0,27])\n",
    "plt.show() "
   ]
  },
  {
   "cell_type": "code",
   "execution_count": null,
   "metadata": {},
   "outputs": [],
   "source": [
    "plt.figure(figsize=(11, 6))\n",
    "plt.plot(RDF['Date'],RDF['Sales_C'],label='Actual Sales')\n",
    "plt.plot(RDF['Date'],RDF['PredsM1_C'],label='Method #1')\n",
    "plt.plot(RDF['Date'],RDF['PredsM2_C'],label='Method #2')\n",
    "plt.title('Forecasted Daily Sales - Cumulative',size=20) \n",
    "plt.xlabel('Date',size=16)\n",
    "plt.ylabel('Sales',size=16) \n",
    "plt.legend(loc='upper left')\n",
    "plt.ylim([0,800]) \n",
    "plt.show() "
   ]
  },
  {
   "cell_type": "code",
   "execution_count": null,
   "metadata": {},
   "outputs": [],
   "source": [
    "RDF.tail(1)"
   ]
  },
  {
   "cell_type": "code",
   "execution_count": null,
   "metadata": {},
   "outputs": [],
   "source": [
    "FinalSales = list(RDF['Sales_C'])[-1]\n",
    "FinalPred1 = list(RDF['PredsM1_C'])[-1]\n",
    "FinalPred2 = list(RDF['PredsM2_C'])[-1]  \n",
    "\n",
    "ErrorM1 = round(100*((FinalPred1-FinalSales)/FinalSales),3) \n",
    "ErrorM2 = round(100*((FinalPred2-FinalSales)/FinalSales),3) \n",
    "\n",
    "print('Comparing the Cumulative Results')\n",
    "print('Method 1 Error =',ErrorM1,'%')\n",
    "print('Method 2 Error =',ErrorM2,'%')"
   ]
  },
  {
   "cell_type": "code",
   "execution_count": null,
   "metadata": {},
   "outputs": [],
   "source": [
    "######################################################################\n",
    "######################################################################"
   ]
  },
  {
   "cell_type": "code",
   "execution_count": null,
   "metadata": {},
   "outputs": [],
   "source": [
    "# [END]"
   ]
  },
  {
   "cell_type": "code",
   "execution_count": null,
   "metadata": {},
   "outputs": [],
   "source": []
  },
  {
   "cell_type": "code",
   "execution_count": null,
   "metadata": {},
   "outputs": [],
   "source": []
  },
  {
   "cell_type": "code",
   "execution_count": null,
   "metadata": {},
   "outputs": [],
   "source": []
  },
  {
   "cell_type": "code",
   "execution_count": null,
   "metadata": {},
   "outputs": [],
   "source": []
  },
  {
   "cell_type": "code",
   "execution_count": null,
   "metadata": {},
   "outputs": [],
   "source": []
  },
  {
   "cell_type": "code",
   "execution_count": null,
   "metadata": {},
   "outputs": [],
   "source": []
  },
  {
   "cell_type": "code",
   "execution_count": null,
   "metadata": {},
   "outputs": [],
   "source": []
  },
  {
   "cell_type": "code",
   "execution_count": null,
   "metadata": {},
   "outputs": [],
   "source": []
  }
 ],
 "metadata": {
  "kernelspec": {
   "display_name": "Python 3",
   "language": "python",
   "name": "python3"
  },
  "language_info": {
   "codemirror_mode": {
    "name": "ipython",
    "version": 3
   },
   "file_extension": ".py",
   "mimetype": "text/x-python",
   "name": "python",
   "nbconvert_exporter": "python",
   "pygments_lexer": "ipython3",
   "version": "3.7.2"
  }
 },
 "nbformat": 4,
 "nbformat_minor": 2
}
